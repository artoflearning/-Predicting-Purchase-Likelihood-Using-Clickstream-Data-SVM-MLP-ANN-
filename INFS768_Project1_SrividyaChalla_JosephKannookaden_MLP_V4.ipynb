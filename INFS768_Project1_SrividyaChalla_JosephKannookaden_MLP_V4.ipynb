{
 "cells": [
  {
   "cell_type": "code",
   "execution_count": 27,
   "id": "391942ca",
   "metadata": {},
   "outputs": [],
   "source": [
    "import pandas as pd\n",
    "import numpy as np"
   ]
  },
  {
   "cell_type": "code",
   "execution_count": 28,
   "id": "e993ed22",
   "metadata": {},
   "outputs": [
    {
     "name": "stdout",
     "output_type": "stream",
     "text": [
      "          Session_ID                 Timestamp    Item_ID Category\n",
      "0                  1  2014-04-07T10:54:09.868Z  214536500        0\n",
      "1                  1  2014-04-07T10:54:46.998Z  214536506        0\n",
      "2                  1  2014-04-07T10:57:00.306Z  214577561        0\n",
      "3                  2  2014-04-07T13:56:37.614Z  214662742        0\n",
      "4                  2  2014-04-07T13:57:19.373Z  214662742        0\n",
      "...              ...                       ...        ...      ...\n",
      "33003938    11299809  2014-09-25T09:33:22.412Z  214819412        S\n",
      "33003939    11299809  2014-09-25T09:43:52.821Z  214830939        S\n",
      "33003940    11299811  2014-09-24T19:02:09.741Z  214854855        S\n",
      "33003941    11299811  2014-09-24T19:02:11.894Z  214854838        S\n",
      "33003942    11299811  2014-09-24T19:02:25.146Z  214848658        S\n",
      "\n",
      "[33003943 rows x 4 columns]\n"
     ]
    },
    {
     "data": {
      "text/plain": [
       "9249729"
      ]
     },
     "execution_count": 28,
     "metadata": {},
     "output_type": "execute_result"
    }
   ],
   "source": [
    "# Import Click data\n",
    "clicksData = pd.read_csv('C:/Users/joeka/OneDrive/Desktop/1_DSU/INFS768/Project/yoochoose-clicks.dat/yoochoose-clicks.dat', low_memory=False)\n",
    "\n",
    "# Name column headers\n",
    "clicksData.columns =['Session_ID', 'Timestamp', 'Item_ID', 'Category']\n",
    "\n",
    "print(clicksData)\n",
    "\n",
    "len(set(clicksData.Session_ID))"
   ]
  },
  {
   "cell_type": "code",
   "execution_count": 29,
   "id": "f134e131",
   "metadata": {},
   "outputs": [
    {
     "name": "stdout",
     "output_type": "stream",
     "text": [
      "         Session_ID                 Timestamp    Item_ID  Price  Quantity\n",
      "0            420374  2014-04-06T18:44:58.325Z  214537850  10471         1\n",
      "1            281626  2014-04-06T09:40:13.032Z  214535653   1883         1\n",
      "2            420368  2014-04-04T06:13:28.848Z  214530572   6073         1\n",
      "3            420368  2014-04-04T06:13:28.858Z  214835025   2617         1\n",
      "4            140806  2014-04-07T09:22:28.132Z  214668193    523         1\n",
      "...             ...                       ...        ...    ...       ...\n",
      "1150747    11368701  2014-09-26T07:52:51.357Z  214849809    554         2\n",
      "1150748    11368691  2014-09-25T09:37:44.206Z  214700002   6806         5\n",
      "1150749    11523941  2014-09-25T06:14:47.965Z  214578011  14556         1\n",
      "1150750    11423202  2014-09-26T18:49:34.024Z  214849164   1046         1\n",
      "1150751    11423202  2014-09-26T18:49:34.026Z  214560500   5549         1\n",
      "\n",
      "[1150752 rows x 5 columns]\n"
     ]
    },
    {
     "data": {
      "text/plain": [
       "509696"
      ]
     },
     "execution_count": 29,
     "metadata": {},
     "output_type": "execute_result"
    }
   ],
   "source": [
    "# Import Buys data\n",
    "buysData = pd.read_csv('C:/Users/joeka/OneDrive/Desktop/1_DSU/INFS768/Project/yoochoose-buys.dat/yoochoose-buys.dat', low_memory=False)\n",
    "\n",
    "# Name column headers\n",
    "buysData.columns =['Session_ID', 'Timestamp', 'Item_ID', 'Price', 'Quantity']\n",
    "\n",
    "print(buysData)\n",
    "\n",
    "len(set(buysData.Session_ID))"
   ]
  },
  {
   "cell_type": "code",
   "execution_count": 30,
   "id": "691f502b",
   "metadata": {},
   "outputs": [
    {
     "name": "stdout",
     "output_type": "stream",
     "text": [
      "         Session_ID                 Timestamp    Item_ID  Price  Quantity  \\\n",
      "0            420374  2014-04-06T18:44:58.325Z  214537850  10471         1   \n",
      "1            281626  2014-04-06T09:40:13.032Z  214535653   1883         1   \n",
      "2            420368  2014-04-04T06:13:28.848Z  214530572   6073         1   \n",
      "3            420368  2014-04-04T06:13:28.858Z  214835025   2617         1   \n",
      "4            140806  2014-04-07T09:22:28.132Z  214668193    523         1   \n",
      "...             ...                       ...        ...    ...       ...   \n",
      "1150747    11368701  2014-09-26T07:52:51.357Z  214849809    554         2   \n",
      "1150748    11368691  2014-09-25T09:37:44.206Z  214700002   6806         5   \n",
      "1150749    11523941  2014-09-25T06:14:47.965Z  214578011  14556         1   \n",
      "1150750    11423202  2014-09-26T18:49:34.024Z  214849164   1046         1   \n",
      "1150751    11423202  2014-09-26T18:49:34.026Z  214560500   5549         1   \n",
      "\n",
      "         Buys  \n",
      "0           1  \n",
      "1           1  \n",
      "2           1  \n",
      "3           1  \n",
      "4           1  \n",
      "...       ...  \n",
      "1150747     1  \n",
      "1150748     1  \n",
      "1150749     1  \n",
      "1150750     1  \n",
      "1150751     1  \n",
      "\n",
      "[1150752 rows x 6 columns]\n"
     ]
    }
   ],
   "source": [
    "# Add \"Buys\" column to Buys data and fill values as 1\n",
    "buysData['Buys'] = pd.Series([1 for x in range(len(buysData.index))])\n",
    "\n",
    "print(buysData)"
   ]
  },
  {
   "cell_type": "code",
   "execution_count": 31,
   "id": "53156953",
   "metadata": {
    "scrolled": false
   },
   "outputs": [
    {
     "data": {
      "text/html": [
       "<div>\n",
       "<style scoped>\n",
       "    .dataframe tbody tr th:only-of-type {\n",
       "        vertical-align: middle;\n",
       "    }\n",
       "\n",
       "    .dataframe tbody tr th {\n",
       "        vertical-align: top;\n",
       "    }\n",
       "\n",
       "    .dataframe thead th {\n",
       "        text-align: right;\n",
       "    }\n",
       "</style>\n",
       "<table border=\"1\" class=\"dataframe\">\n",
       "  <thead>\n",
       "    <tr style=\"text-align: right;\">\n",
       "      <th></th>\n",
       "      <th>Session_ID</th>\n",
       "      <th>Timestamp</th>\n",
       "      <th>Item_ID</th>\n",
       "      <th>Category</th>\n",
       "      <th>Price</th>\n",
       "      <th>Quantity</th>\n",
       "      <th>Buys</th>\n",
       "    </tr>\n",
       "  </thead>\n",
       "  <tbody>\n",
       "    <tr>\n",
       "      <th>0</th>\n",
       "      <td>1</td>\n",
       "      <td>2014-04-07T10:54:09.868Z</td>\n",
       "      <td>214536500</td>\n",
       "      <td>0</td>\n",
       "      <td>NaN</td>\n",
       "      <td>NaN</td>\n",
       "      <td>NaN</td>\n",
       "    </tr>\n",
       "    <tr>\n",
       "      <th>1</th>\n",
       "      <td>1</td>\n",
       "      <td>2014-04-07T10:54:46.998Z</td>\n",
       "      <td>214536506</td>\n",
       "      <td>0</td>\n",
       "      <td>NaN</td>\n",
       "      <td>NaN</td>\n",
       "      <td>NaN</td>\n",
       "    </tr>\n",
       "    <tr>\n",
       "      <th>2</th>\n",
       "      <td>1</td>\n",
       "      <td>2014-04-07T10:57:00.306Z</td>\n",
       "      <td>214577561</td>\n",
       "      <td>0</td>\n",
       "      <td>NaN</td>\n",
       "      <td>NaN</td>\n",
       "      <td>NaN</td>\n",
       "    </tr>\n",
       "    <tr>\n",
       "      <th>3</th>\n",
       "      <td>2</td>\n",
       "      <td>2014-04-07T13:56:37.614Z</td>\n",
       "      <td>214662742</td>\n",
       "      <td>0</td>\n",
       "      <td>NaN</td>\n",
       "      <td>NaN</td>\n",
       "      <td>NaN</td>\n",
       "    </tr>\n",
       "    <tr>\n",
       "      <th>4</th>\n",
       "      <td>2</td>\n",
       "      <td>2014-04-07T13:57:19.373Z</td>\n",
       "      <td>214662742</td>\n",
       "      <td>0</td>\n",
       "      <td>NaN</td>\n",
       "      <td>NaN</td>\n",
       "      <td>NaN</td>\n",
       "    </tr>\n",
       "    <tr>\n",
       "      <th>...</th>\n",
       "      <td>...</td>\n",
       "      <td>...</td>\n",
       "      <td>...</td>\n",
       "      <td>...</td>\n",
       "      <td>...</td>\n",
       "      <td>...</td>\n",
       "      <td>...</td>\n",
       "    </tr>\n",
       "    <tr>\n",
       "      <th>40596041</th>\n",
       "      <td>11299809</td>\n",
       "      <td>2014-09-25T09:33:22.412Z</td>\n",
       "      <td>214819412</td>\n",
       "      <td>S</td>\n",
       "      <td>NaN</td>\n",
       "      <td>NaN</td>\n",
       "      <td>NaN</td>\n",
       "    </tr>\n",
       "    <tr>\n",
       "      <th>40596042</th>\n",
       "      <td>11299809</td>\n",
       "      <td>2014-09-25T09:43:52.821Z</td>\n",
       "      <td>214830939</td>\n",
       "      <td>S</td>\n",
       "      <td>NaN</td>\n",
       "      <td>NaN</td>\n",
       "      <td>NaN</td>\n",
       "    </tr>\n",
       "    <tr>\n",
       "      <th>40596043</th>\n",
       "      <td>11299811</td>\n",
       "      <td>2014-09-24T19:02:09.741Z</td>\n",
       "      <td>214854855</td>\n",
       "      <td>S</td>\n",
       "      <td>NaN</td>\n",
       "      <td>NaN</td>\n",
       "      <td>NaN</td>\n",
       "    </tr>\n",
       "    <tr>\n",
       "      <th>40596044</th>\n",
       "      <td>11299811</td>\n",
       "      <td>2014-09-24T19:02:11.894Z</td>\n",
       "      <td>214854838</td>\n",
       "      <td>S</td>\n",
       "      <td>NaN</td>\n",
       "      <td>NaN</td>\n",
       "      <td>NaN</td>\n",
       "    </tr>\n",
       "    <tr>\n",
       "      <th>40596045</th>\n",
       "      <td>11299811</td>\n",
       "      <td>2014-09-24T19:02:25.146Z</td>\n",
       "      <td>214848658</td>\n",
       "      <td>S</td>\n",
       "      <td>NaN</td>\n",
       "      <td>NaN</td>\n",
       "      <td>NaN</td>\n",
       "    </tr>\n",
       "  </tbody>\n",
       "</table>\n",
       "<p>40596046 rows × 7 columns</p>\n",
       "</div>"
      ],
      "text/plain": [
       "          Session_ID                 Timestamp    Item_ID Category  Price  \\\n",
       "0                  1  2014-04-07T10:54:09.868Z  214536500        0    NaN   \n",
       "1                  1  2014-04-07T10:54:46.998Z  214536506        0    NaN   \n",
       "2                  1  2014-04-07T10:57:00.306Z  214577561        0    NaN   \n",
       "3                  2  2014-04-07T13:56:37.614Z  214662742        0    NaN   \n",
       "4                  2  2014-04-07T13:57:19.373Z  214662742        0    NaN   \n",
       "...              ...                       ...        ...      ...    ...   \n",
       "40596041    11299809  2014-09-25T09:33:22.412Z  214819412        S    NaN   \n",
       "40596042    11299809  2014-09-25T09:43:52.821Z  214830939        S    NaN   \n",
       "40596043    11299811  2014-09-24T19:02:09.741Z  214854855        S    NaN   \n",
       "40596044    11299811  2014-09-24T19:02:11.894Z  214854838        S    NaN   \n",
       "40596045    11299811  2014-09-24T19:02:25.146Z  214848658        S    NaN   \n",
       "\n",
       "          Quantity  Buys  \n",
       "0              NaN   NaN  \n",
       "1              NaN   NaN  \n",
       "2              NaN   NaN  \n",
       "3              NaN   NaN  \n",
       "4              NaN   NaN  \n",
       "...            ...   ...  \n",
       "40596041       NaN   NaN  \n",
       "40596042       NaN   NaN  \n",
       "40596043       NaN   NaN  \n",
       "40596044       NaN   NaN  \n",
       "40596045       NaN   NaN  \n",
       "\n",
       "[40596046 rows x 7 columns]"
      ]
     },
     "execution_count": 31,
     "metadata": {},
     "output_type": "execute_result"
    }
   ],
   "source": [
    "yoochooseFull = clicksData[['Session_ID','Timestamp', 'Item_ID', 'Category']].merge(buysData[['Session_ID','Price', 'Quantity', 'Buys']], on = 'Session_ID', how = 'outer')\n",
    "\n",
    "yoochooseFull"
   ]
  },
  {
   "cell_type": "code",
   "execution_count": 32,
   "id": "e2ba090b",
   "metadata": {},
   "outputs": [
    {
     "data": {
      "text/html": [
       "<div>\n",
       "<style scoped>\n",
       "    .dataframe tbody tr th:only-of-type {\n",
       "        vertical-align: middle;\n",
       "    }\n",
       "\n",
       "    .dataframe tbody tr th {\n",
       "        vertical-align: top;\n",
       "    }\n",
       "\n",
       "    .dataframe thead th {\n",
       "        text-align: right;\n",
       "    }\n",
       "</style>\n",
       "<table border=\"1\" class=\"dataframe\">\n",
       "  <thead>\n",
       "    <tr style=\"text-align: right;\">\n",
       "      <th></th>\n",
       "      <th>Session_ID</th>\n",
       "      <th>Timestamp</th>\n",
       "      <th>Item_ID</th>\n",
       "      <th>Category</th>\n",
       "      <th>Price</th>\n",
       "      <th>Quantity</th>\n",
       "      <th>Buys</th>\n",
       "    </tr>\n",
       "  </thead>\n",
       "  <tbody>\n",
       "    <tr>\n",
       "      <th>0</th>\n",
       "      <td>1</td>\n",
       "      <td>2014-04-07T10:54:09.868Z</td>\n",
       "      <td>214536500</td>\n",
       "      <td>0</td>\n",
       "      <td>NaN</td>\n",
       "      <td>NaN</td>\n",
       "      <td>0.0</td>\n",
       "    </tr>\n",
       "    <tr>\n",
       "      <th>1</th>\n",
       "      <td>1</td>\n",
       "      <td>2014-04-07T10:54:46.998Z</td>\n",
       "      <td>214536506</td>\n",
       "      <td>0</td>\n",
       "      <td>NaN</td>\n",
       "      <td>NaN</td>\n",
       "      <td>0.0</td>\n",
       "    </tr>\n",
       "    <tr>\n",
       "      <th>2</th>\n",
       "      <td>1</td>\n",
       "      <td>2014-04-07T10:57:00.306Z</td>\n",
       "      <td>214577561</td>\n",
       "      <td>0</td>\n",
       "      <td>NaN</td>\n",
       "      <td>NaN</td>\n",
       "      <td>0.0</td>\n",
       "    </tr>\n",
       "    <tr>\n",
       "      <th>3</th>\n",
       "      <td>2</td>\n",
       "      <td>2014-04-07T13:56:37.614Z</td>\n",
       "      <td>214662742</td>\n",
       "      <td>0</td>\n",
       "      <td>NaN</td>\n",
       "      <td>NaN</td>\n",
       "      <td>0.0</td>\n",
       "    </tr>\n",
       "    <tr>\n",
       "      <th>4</th>\n",
       "      <td>2</td>\n",
       "      <td>2014-04-07T13:57:19.373Z</td>\n",
       "      <td>214662742</td>\n",
       "      <td>0</td>\n",
       "      <td>NaN</td>\n",
       "      <td>NaN</td>\n",
       "      <td>0.0</td>\n",
       "    </tr>\n",
       "    <tr>\n",
       "      <th>...</th>\n",
       "      <td>...</td>\n",
       "      <td>...</td>\n",
       "      <td>...</td>\n",
       "      <td>...</td>\n",
       "      <td>...</td>\n",
       "      <td>...</td>\n",
       "      <td>...</td>\n",
       "    </tr>\n",
       "    <tr>\n",
       "      <th>40596041</th>\n",
       "      <td>11299809</td>\n",
       "      <td>2014-09-25T09:33:22.412Z</td>\n",
       "      <td>214819412</td>\n",
       "      <td>S</td>\n",
       "      <td>NaN</td>\n",
       "      <td>NaN</td>\n",
       "      <td>0.0</td>\n",
       "    </tr>\n",
       "    <tr>\n",
       "      <th>40596042</th>\n",
       "      <td>11299809</td>\n",
       "      <td>2014-09-25T09:43:52.821Z</td>\n",
       "      <td>214830939</td>\n",
       "      <td>S</td>\n",
       "      <td>NaN</td>\n",
       "      <td>NaN</td>\n",
       "      <td>0.0</td>\n",
       "    </tr>\n",
       "    <tr>\n",
       "      <th>40596043</th>\n",
       "      <td>11299811</td>\n",
       "      <td>2014-09-24T19:02:09.741Z</td>\n",
       "      <td>214854855</td>\n",
       "      <td>S</td>\n",
       "      <td>NaN</td>\n",
       "      <td>NaN</td>\n",
       "      <td>0.0</td>\n",
       "    </tr>\n",
       "    <tr>\n",
       "      <th>40596044</th>\n",
       "      <td>11299811</td>\n",
       "      <td>2014-09-24T19:02:11.894Z</td>\n",
       "      <td>214854838</td>\n",
       "      <td>S</td>\n",
       "      <td>NaN</td>\n",
       "      <td>NaN</td>\n",
       "      <td>0.0</td>\n",
       "    </tr>\n",
       "    <tr>\n",
       "      <th>40596045</th>\n",
       "      <td>11299811</td>\n",
       "      <td>2014-09-24T19:02:25.146Z</td>\n",
       "      <td>214848658</td>\n",
       "      <td>S</td>\n",
       "      <td>NaN</td>\n",
       "      <td>NaN</td>\n",
       "      <td>0.0</td>\n",
       "    </tr>\n",
       "  </tbody>\n",
       "</table>\n",
       "<p>40596046 rows × 7 columns</p>\n",
       "</div>"
      ],
      "text/plain": [
       "          Session_ID                 Timestamp    Item_ID Category  Price  \\\n",
       "0                  1  2014-04-07T10:54:09.868Z  214536500        0    NaN   \n",
       "1                  1  2014-04-07T10:54:46.998Z  214536506        0    NaN   \n",
       "2                  1  2014-04-07T10:57:00.306Z  214577561        0    NaN   \n",
       "3                  2  2014-04-07T13:56:37.614Z  214662742        0    NaN   \n",
       "4                  2  2014-04-07T13:57:19.373Z  214662742        0    NaN   \n",
       "...              ...                       ...        ...      ...    ...   \n",
       "40596041    11299809  2014-09-25T09:33:22.412Z  214819412        S    NaN   \n",
       "40596042    11299809  2014-09-25T09:43:52.821Z  214830939        S    NaN   \n",
       "40596043    11299811  2014-09-24T19:02:09.741Z  214854855        S    NaN   \n",
       "40596044    11299811  2014-09-24T19:02:11.894Z  214854838        S    NaN   \n",
       "40596045    11299811  2014-09-24T19:02:25.146Z  214848658        S    NaN   \n",
       "\n",
       "          Quantity  Buys  \n",
       "0              NaN   0.0  \n",
       "1              NaN   0.0  \n",
       "2              NaN   0.0  \n",
       "3              NaN   0.0  \n",
       "4              NaN   0.0  \n",
       "...            ...   ...  \n",
       "40596041       NaN   0.0  \n",
       "40596042       NaN   0.0  \n",
       "40596043       NaN   0.0  \n",
       "40596044       NaN   0.0  \n",
       "40596045       NaN   0.0  \n",
       "\n",
       "[40596046 rows x 7 columns]"
      ]
     },
     "execution_count": 32,
     "metadata": {},
     "output_type": "execute_result"
    }
   ],
   "source": [
    "yoochooseFull['Buys'] = yoochooseFull['Buys'].fillna(0)\n",
    "yoochooseFull"
   ]
  },
  {
   "cell_type": "code",
   "execution_count": 33,
   "id": "4d09f1d2",
   "metadata": {},
   "outputs": [
    {
     "name": "stdout",
     "output_type": "stream",
     "text": [
      "          Session_ID                 Timestamp    Item_ID Category   Price  \\\n",
      "23                11  2014-04-03T10:44:35.672Z  214821275        0  1046.0   \n",
      "24                11  2014-04-03T10:44:35.672Z  214821275        0  1046.0   \n",
      "25                11  2014-04-03T10:45:01.674Z  214821275        0  1046.0   \n",
      "26                11  2014-04-03T10:45:01.674Z  214821275        0  1046.0   \n",
      "27                11  2014-04-03T10:45:29.873Z  214821371        0  1046.0   \n",
      "...              ...                       ...        ...      ...     ...   \n",
      "40595895    11299793  2014-09-25T07:07:57.252Z  214851757        S  2093.0   \n",
      "40595896    11299793  2014-09-25T07:08:34.444Z  214854804        S  1570.0   \n",
      "40595897    11299793  2014-09-25T07:08:34.444Z  214854804        S  2093.0   \n",
      "40595898    11299793  2014-09-25T07:13:54.356Z  214834933        5  1570.0   \n",
      "40595899    11299793  2014-09-25T07:13:54.356Z  214834933        5  2093.0   \n",
      "\n",
      "          Quantity  Buys  \n",
      "23             1.0   1.0  \n",
      "24             1.0   1.0  \n",
      "25             1.0   1.0  \n",
      "26             1.0   1.0  \n",
      "27             1.0   1.0  \n",
      "...            ...   ...  \n",
      "40595895       1.0   1.0  \n",
      "40595896       1.0   1.0  \n",
      "40595897       1.0   1.0  \n",
      "40595898       1.0   1.0  \n",
      "40595899       1.0   1.0  \n",
      "\n",
      "[10897790 rows x 7 columns]\n"
     ]
    }
   ],
   "source": [
    "## Undersample larger volume of Sessions that don't have a Buy with smaller volume of Sessions that do have a Buy to remove bias.\n",
    "\n",
    "# Get the total count of low-frequency group(Buys = 1)\n",
    "sample_size = len(yoochooseFull[yoochooseFull.Buys == 1]) # get the total count of low-frequency group(Buys: 1)\n",
    "Buys_indices = yoochooseFull[yoochooseFull.Buys == 1].index\n",
    "Buys_sample = yoochooseFull.loc[Buys_indices]\n",
    "print (Buys_sample)"
   ]
  },
  {
   "cell_type": "code",
   "execution_count": 34,
   "id": "b335f2ce",
   "metadata": {},
   "outputs": [
    {
     "data": {
      "text/plain": [
       "10897790"
      ]
     },
     "execution_count": 34,
     "metadata": {},
     "output_type": "execute_result"
    }
   ],
   "source": [
    "len(yoochooseFull[yoochooseFull.Buys == 1])"
   ]
  },
  {
   "cell_type": "code",
   "execution_count": 35,
   "id": "9d156d15",
   "metadata": {},
   "outputs": [
    {
     "data": {
      "text/plain": [
       "0.0    29698256\n",
       "1.0    10897790\n",
       "Name: Buys, dtype: int64"
      ]
     },
     "execution_count": 35,
     "metadata": {},
     "output_type": "execute_result"
    }
   ],
   "source": [
    "yoochooseFull['Buys'].value_counts()"
   ]
  },
  {
   "cell_type": "code",
   "execution_count": 36,
   "id": "390e52cd",
   "metadata": {},
   "outputs": [
    {
     "name": "stdout",
     "output_type": "stream",
     "text": [
      "          Session_ID                 Timestamp    Item_ID Category  Price  \\\n",
      "1503234       421281  2014-04-02T14:24:32.345Z  214691390        0    NaN   \n",
      "22392949     6281387  2014-07-20T19:30:14.409Z  214835426        3    NaN   \n",
      "33835162     9656578  2014-09-01T15:34:42.374Z  214545984        2    NaN   \n",
      "6394129      1587622  2014-04-28T18:24:10.678Z  214555181        0    NaN   \n",
      "26454770     7822274  2014-08-10T09:23:58.558Z  214840487        2    NaN   \n",
      "...              ...                       ...        ...      ...    ...   \n",
      "2836788       728061  2014-04-08T05:44:40.296Z  214746450        0    NaN   \n",
      "17172858     4850752  2014-06-10T08:14:33.210Z  214839913        0    NaN   \n",
      "9698051      2434638  2014-05-10T15:25:23.670Z  214829880        0    NaN   \n",
      "2887871       740759  2014-04-09T05:43:47.808Z  214638590        0    NaN   \n",
      "22679856     6465042  2014-07-21T14:57:22.093Z  214585082        2    NaN   \n",
      "\n",
      "          Quantity  Buys  \n",
      "1503234        NaN   0.0  \n",
      "22392949       NaN   0.0  \n",
      "33835162       NaN   0.0  \n",
      "6394129        NaN   0.0  \n",
      "26454770       NaN   0.0  \n",
      "...            ...   ...  \n",
      "2836788        NaN   0.0  \n",
      "17172858       NaN   0.0  \n",
      "9698051        NaN   0.0  \n",
      "2887871        NaN   0.0  \n",
      "22679856       NaN   0.0  \n",
      "\n",
      "[10897790 rows x 7 columns]\n"
     ]
    }
   ],
   "source": [
    "# Count the number of non-buys/high-frequency group\n",
    "NotBuys_indices = yoochooseFull[yoochooseFull.Buys == 0].index\n",
    "\n",
    "# Use the low-frequency group count to randomly sample from high-frequency group\n",
    "random_indices = np.random.choice(NotBuys_indices, sample_size, replace=False) \n",
    "NotBuys_sample = yoochooseFull.loc[random_indices]\n",
    "print (NotBuys_sample)"
   ]
  },
  {
   "cell_type": "code",
   "execution_count": 37,
   "id": "499b2a54",
   "metadata": {},
   "outputs": [
    {
     "name": "stdout",
     "output_type": "stream",
     "text": [
      "          Session_ID                 Timestamp    Item_ID Category   Price  \\\n",
      "0                 11  2014-04-03T10:44:35.672Z  214821275        0  1046.0   \n",
      "1                 11  2014-04-03T10:44:35.672Z  214821275        0  1046.0   \n",
      "2                 11  2014-04-03T10:45:01.674Z  214821275        0  1046.0   \n",
      "3                 11  2014-04-03T10:45:01.674Z  214821275        0  1046.0   \n",
      "4                 11  2014-04-03T10:45:29.873Z  214821371        0  1046.0   \n",
      "...              ...                       ...        ...      ...     ...   \n",
      "21795575      728061  2014-04-08T05:44:40.296Z  214746450        0     NaN   \n",
      "21795576     4850752  2014-06-10T08:14:33.210Z  214839913        0     NaN   \n",
      "21795577     2434638  2014-05-10T15:25:23.670Z  214829880        0     NaN   \n",
      "21795578      740759  2014-04-09T05:43:47.808Z  214638590        0     NaN   \n",
      "21795579     6465042  2014-07-21T14:57:22.093Z  214585082        2     NaN   \n",
      "\n",
      "          Quantity  Buys  \n",
      "0              1.0   1.0  \n",
      "1              1.0   1.0  \n",
      "2              1.0   1.0  \n",
      "3              1.0   1.0  \n",
      "4              1.0   1.0  \n",
      "...            ...   ...  \n",
      "21795575       NaN   0.0  \n",
      "21795576       NaN   0.0  \n",
      "21795577       NaN   0.0  \n",
      "21795578       NaN   0.0  \n",
      "21795579       NaN   0.0  \n",
      "\n",
      "[21795580 rows x 7 columns]\n"
     ]
    }
   ],
   "source": [
    "# Merging all the low-frequency group sample and the new (randomly selected) high-frequency sample together\n",
    "merged_sample = pd.concat([Buys_sample, NotBuys_sample], ignore_index=True)\n",
    "print (merged_sample)"
   ]
  },
  {
   "cell_type": "code",
   "execution_count": 38,
   "id": "5e21f1d3",
   "metadata": {},
   "outputs": [
    {
     "data": {
      "text/html": [
       "<div>\n",
       "<style scoped>\n",
       "    .dataframe tbody tr th:only-of-type {\n",
       "        vertical-align: middle;\n",
       "    }\n",
       "\n",
       "    .dataframe tbody tr th {\n",
       "        vertical-align: top;\n",
       "    }\n",
       "\n",
       "    .dataframe thead th {\n",
       "        text-align: right;\n",
       "    }\n",
       "</style>\n",
       "<table border=\"1\" class=\"dataframe\">\n",
       "  <thead>\n",
       "    <tr style=\"text-align: right;\">\n",
       "      <th></th>\n",
       "      <th>Session_ID</th>\n",
       "      <th>Timestamp</th>\n",
       "      <th>Item_ID</th>\n",
       "      <th>Category</th>\n",
       "      <th>Price</th>\n",
       "      <th>Quantity</th>\n",
       "      <th>Buys</th>\n",
       "      <th>Year</th>\n",
       "      <th>Month</th>\n",
       "      <th>Day</th>\n",
       "      <th>Hour</th>\n",
       "    </tr>\n",
       "  </thead>\n",
       "  <tbody>\n",
       "    <tr>\n",
       "      <th>0</th>\n",
       "      <td>11</td>\n",
       "      <td>2014-04-03 10:44:35.672000+00:00</td>\n",
       "      <td>214821275</td>\n",
       "      <td>0</td>\n",
       "      <td>1046.0</td>\n",
       "      <td>1.0</td>\n",
       "      <td>1.0</td>\n",
       "      <td>2014</td>\n",
       "      <td>4</td>\n",
       "      <td>3</td>\n",
       "      <td>10</td>\n",
       "    </tr>\n",
       "    <tr>\n",
       "      <th>1</th>\n",
       "      <td>11</td>\n",
       "      <td>2014-04-03 10:44:35.672000+00:00</td>\n",
       "      <td>214821275</td>\n",
       "      <td>0</td>\n",
       "      <td>1046.0</td>\n",
       "      <td>1.0</td>\n",
       "      <td>1.0</td>\n",
       "      <td>2014</td>\n",
       "      <td>4</td>\n",
       "      <td>3</td>\n",
       "      <td>10</td>\n",
       "    </tr>\n",
       "    <tr>\n",
       "      <th>2</th>\n",
       "      <td>11</td>\n",
       "      <td>2014-04-03 10:45:01.674000+00:00</td>\n",
       "      <td>214821275</td>\n",
       "      <td>0</td>\n",
       "      <td>1046.0</td>\n",
       "      <td>1.0</td>\n",
       "      <td>1.0</td>\n",
       "      <td>2014</td>\n",
       "      <td>4</td>\n",
       "      <td>3</td>\n",
       "      <td>10</td>\n",
       "    </tr>\n",
       "    <tr>\n",
       "      <th>3</th>\n",
       "      <td>11</td>\n",
       "      <td>2014-04-03 10:45:01.674000+00:00</td>\n",
       "      <td>214821275</td>\n",
       "      <td>0</td>\n",
       "      <td>1046.0</td>\n",
       "      <td>1.0</td>\n",
       "      <td>1.0</td>\n",
       "      <td>2014</td>\n",
       "      <td>4</td>\n",
       "      <td>3</td>\n",
       "      <td>10</td>\n",
       "    </tr>\n",
       "    <tr>\n",
       "      <th>4</th>\n",
       "      <td>11</td>\n",
       "      <td>2014-04-03 10:45:29.873000+00:00</td>\n",
       "      <td>214821371</td>\n",
       "      <td>0</td>\n",
       "      <td>1046.0</td>\n",
       "      <td>1.0</td>\n",
       "      <td>1.0</td>\n",
       "      <td>2014</td>\n",
       "      <td>4</td>\n",
       "      <td>3</td>\n",
       "      <td>10</td>\n",
       "    </tr>\n",
       "    <tr>\n",
       "      <th>...</th>\n",
       "      <td>...</td>\n",
       "      <td>...</td>\n",
       "      <td>...</td>\n",
       "      <td>...</td>\n",
       "      <td>...</td>\n",
       "      <td>...</td>\n",
       "      <td>...</td>\n",
       "      <td>...</td>\n",
       "      <td>...</td>\n",
       "      <td>...</td>\n",
       "      <td>...</td>\n",
       "    </tr>\n",
       "    <tr>\n",
       "      <th>21795575</th>\n",
       "      <td>728061</td>\n",
       "      <td>2014-04-08 05:44:40.296000+00:00</td>\n",
       "      <td>214746450</td>\n",
       "      <td>0</td>\n",
       "      <td>NaN</td>\n",
       "      <td>NaN</td>\n",
       "      <td>0.0</td>\n",
       "      <td>2014</td>\n",
       "      <td>4</td>\n",
       "      <td>8</td>\n",
       "      <td>05</td>\n",
       "    </tr>\n",
       "    <tr>\n",
       "      <th>21795576</th>\n",
       "      <td>4850752</td>\n",
       "      <td>2014-06-10 08:14:33.210000+00:00</td>\n",
       "      <td>214839913</td>\n",
       "      <td>0</td>\n",
       "      <td>NaN</td>\n",
       "      <td>NaN</td>\n",
       "      <td>0.0</td>\n",
       "      <td>2014</td>\n",
       "      <td>6</td>\n",
       "      <td>10</td>\n",
       "      <td>08</td>\n",
       "    </tr>\n",
       "    <tr>\n",
       "      <th>21795577</th>\n",
       "      <td>2434638</td>\n",
       "      <td>2014-05-10 15:25:23.670000+00:00</td>\n",
       "      <td>214829880</td>\n",
       "      <td>0</td>\n",
       "      <td>NaN</td>\n",
       "      <td>NaN</td>\n",
       "      <td>0.0</td>\n",
       "      <td>2014</td>\n",
       "      <td>5</td>\n",
       "      <td>10</td>\n",
       "      <td>15</td>\n",
       "    </tr>\n",
       "    <tr>\n",
       "      <th>21795578</th>\n",
       "      <td>740759</td>\n",
       "      <td>2014-04-09 05:43:47.808000+00:00</td>\n",
       "      <td>214638590</td>\n",
       "      <td>0</td>\n",
       "      <td>NaN</td>\n",
       "      <td>NaN</td>\n",
       "      <td>0.0</td>\n",
       "      <td>2014</td>\n",
       "      <td>4</td>\n",
       "      <td>9</td>\n",
       "      <td>05</td>\n",
       "    </tr>\n",
       "    <tr>\n",
       "      <th>21795579</th>\n",
       "      <td>6465042</td>\n",
       "      <td>2014-07-21 14:57:22.093000+00:00</td>\n",
       "      <td>214585082</td>\n",
       "      <td>2</td>\n",
       "      <td>NaN</td>\n",
       "      <td>NaN</td>\n",
       "      <td>0.0</td>\n",
       "      <td>2014</td>\n",
       "      <td>7</td>\n",
       "      <td>21</td>\n",
       "      <td>14</td>\n",
       "    </tr>\n",
       "  </tbody>\n",
       "</table>\n",
       "<p>21795580 rows × 11 columns</p>\n",
       "</div>"
      ],
      "text/plain": [
       "          Session_ID                        Timestamp    Item_ID Category  \\\n",
       "0                 11 2014-04-03 10:44:35.672000+00:00  214821275        0   \n",
       "1                 11 2014-04-03 10:44:35.672000+00:00  214821275        0   \n",
       "2                 11 2014-04-03 10:45:01.674000+00:00  214821275        0   \n",
       "3                 11 2014-04-03 10:45:01.674000+00:00  214821275        0   \n",
       "4                 11 2014-04-03 10:45:29.873000+00:00  214821371        0   \n",
       "...              ...                              ...        ...      ...   \n",
       "21795575      728061 2014-04-08 05:44:40.296000+00:00  214746450        0   \n",
       "21795576     4850752 2014-06-10 08:14:33.210000+00:00  214839913        0   \n",
       "21795577     2434638 2014-05-10 15:25:23.670000+00:00  214829880        0   \n",
       "21795578      740759 2014-04-09 05:43:47.808000+00:00  214638590        0   \n",
       "21795579     6465042 2014-07-21 14:57:22.093000+00:00  214585082        2   \n",
       "\n",
       "           Price  Quantity  Buys  Year  Month  Day Hour  \n",
       "0         1046.0       1.0   1.0  2014      4    3   10  \n",
       "1         1046.0       1.0   1.0  2014      4    3   10  \n",
       "2         1046.0       1.0   1.0  2014      4    3   10  \n",
       "3         1046.0       1.0   1.0  2014      4    3   10  \n",
       "4         1046.0       1.0   1.0  2014      4    3   10  \n",
       "...          ...       ...   ...   ...    ...  ...  ...  \n",
       "21795575     NaN       NaN   0.0  2014      4    8   05  \n",
       "21795576     NaN       NaN   0.0  2014      6   10   08  \n",
       "21795577     NaN       NaN   0.0  2014      5   10   15  \n",
       "21795578     NaN       NaN   0.0  2014      4    9   05  \n",
       "21795579     NaN       NaN   0.0  2014      7   21   14  \n",
       "\n",
       "[21795580 rows x 11 columns]"
      ]
     },
     "execution_count": 38,
     "metadata": {},
     "output_type": "execute_result"
    }
   ],
   "source": [
    "# Change \"Timestamp\" format to datetime\n",
    "merged_sample[\"Timestamp\"] = pd.to_datetime(merged_sample[\"Timestamp\"])\n",
    "\n",
    "# Extract date/time dimensions from \"Timestamp\" into separate columns and add it to dataframe\n",
    "merged_sample[\"Year\"] = merged_sample[\"Timestamp\"].dt.year\n",
    "merged_sample[\"Month\"] = merged_sample[\"Timestamp\"].dt.month\n",
    "merged_sample[\"Day\"] = merged_sample[\"Timestamp\"].dt.day\n",
    "merged_sample[\"Hour\"] = merged_sample[\"Timestamp\"].dt.strftime(\"%H\")\n",
    "\n",
    "merged_sample"
   ]
  },
  {
   "cell_type": "code",
   "execution_count": null,
   "id": "cc8ece53",
   "metadata": {},
   "outputs": [],
   "source": []
  },
  {
   "cell_type": "code",
   "execution_count": 39,
   "id": "e399910e",
   "metadata": {},
   "outputs": [],
   "source": [
    "merged_sample = merged_sample.sample(frac = 0.1)"
   ]
  },
  {
   "cell_type": "code",
   "execution_count": 40,
   "id": "aa6d0eb7",
   "metadata": {},
   "outputs": [
    {
     "name": "stdout",
     "output_type": "stream",
     "text": [
      "          Session_ID                        Timestamp    Item_ID   Price  \\\n",
      "18686018     5579758 2014-07-02 05:47:35.377000+00:00  214651582     NaN   \n",
      "7099934      7963746 2014-08-07 11:11:48.754000+00:00  214846127     0.0   \n",
      "3268301      3862261 2014-06-01 09:01:54.734000+00:00  214835167     0.0   \n",
      "10562412    10866783 2014-09-21 08:55:33.270000+00:00  214854502   523.0   \n",
      "10051536    10530743 2014-09-14 19:04:34.086000+00:00  214567329   941.0   \n",
      "...              ...                              ...        ...     ...   \n",
      "21403807     3783107 2014-06-02 19:29:55.285000+00:00  214676319     NaN   \n",
      "1969375      1940993 2014-05-04 11:32:29.968000+00:00  214821371     0.0   \n",
      "1164193      1188392 2014-04-15 13:19:59.509000+00:00  214837487   627.0   \n",
      "891858        869029 2014-04-12 18:49:49.002000+00:00  214577293  1674.0   \n",
      "6584437      7383901 2014-08-04 19:36:13.164000+00:00  214838098     0.0   \n",
      "\n",
      "          Quantity  Buys  Year  Month  Day Hour  ...  Category_4  Category_5  \\\n",
      "18686018       NaN   0.0  2014      7    2   05  ...           0           0   \n",
      "7099934        0.0   1.0  2014      8    7   11  ...           0           0   \n",
      "3268301        0.0   1.0  2014      6    1   09  ...           0           0   \n",
      "10562412       1.0   1.0  2014      9   21   08  ...           0           0   \n",
      "10051536       1.0   1.0  2014      9   14   19  ...           0           0   \n",
      "...            ...   ...   ...    ...  ...  ...  ...         ...         ...   \n",
      "21403807       NaN   0.0  2014      6    2   19  ...           0           0   \n",
      "1969375        0.0   1.0  2014      5    4   11  ...           0           0   \n",
      "1164193        2.0   1.0  2014      4   15   13  ...           0           0   \n",
      "891858         3.0   1.0  2014      4   12   18  ...           0           0   \n",
      "6584437        0.0   1.0  2014      8    4   19  ...           0           0   \n",
      "\n",
      "          Category_5862231  Category_5862467  Category_5862488  Category_6  \\\n",
      "18686018                 0                 0                 0           0   \n",
      "7099934                  0                 0                 0           0   \n",
      "3268301                  0                 0                 0           0   \n",
      "10562412                 0                 0                 0           0   \n",
      "10051536                 0                 0                 0           0   \n",
      "...                    ...               ...               ...         ...   \n",
      "21403807                 0                 0                 0           0   \n",
      "1969375                  0                 0                 0           0   \n",
      "1164193                  0                 0                 0           0   \n",
      "891858                   0                 0                 0           0   \n",
      "6584437                  0                 0                 0           0   \n",
      "\n",
      "          Category_7  Category_8  Category_9  Category_S  \n",
      "18686018           0           0           0           0  \n",
      "7099934            0           0           0           0  \n",
      "3268301            0           0           0           0  \n",
      "10562412           0           0           0           1  \n",
      "10051536           0           0           0           1  \n",
      "...              ...         ...         ...         ...  \n",
      "21403807           0           0           0           0  \n",
      "1969375            0           0           0           0  \n",
      "1164193            0           0           0           0  \n",
      "891858             0           0           0           0  \n",
      "6584437            0           0           0           0  \n",
      "\n",
      "[2179558 rows x 213 columns]\n"
     ]
    }
   ],
   "source": [
    "# One-Hot Encode 279 \"Category\" variables into separate feature columns\n",
    "one_hot_encoded_data = pd.get_dummies(merged_sample, columns = ['Category'])\n",
    "print(one_hot_encoded_data)"
   ]
  },
  {
   "cell_type": "code",
   "execution_count": null,
   "id": "4351b0ee",
   "metadata": {},
   "outputs": [],
   "source": []
  },
  {
   "cell_type": "code",
   "execution_count": null,
   "id": "035afe89",
   "metadata": {},
   "outputs": [],
   "source": []
  },
  {
   "cell_type": "code",
   "execution_count": 41,
   "id": "9aa98ec1",
   "metadata": {},
   "outputs": [],
   "source": [
    "# drop \"Timestamp\" column\n",
    "one_hot_encoded_data = one_hot_encoded_data.drop('Timestamp', 1)"
   ]
  },
  {
   "cell_type": "code",
   "execution_count": 42,
   "id": "d0e991dc",
   "metadata": {},
   "outputs": [],
   "source": [
    "# fill NaN with 0\n",
    "one_hot_encoded_data = one_hot_encoded_data.fillna(0)"
   ]
  },
  {
   "cell_type": "code",
   "execution_count": null,
   "id": "ad4c1c65",
   "metadata": {},
   "outputs": [],
   "source": []
  },
  {
   "cell_type": "code",
   "execution_count": null,
   "id": "83e48ffe",
   "metadata": {},
   "outputs": [],
   "source": []
  },
  {
   "cell_type": "code",
   "execution_count": 43,
   "id": "e9722d1e",
   "metadata": {},
   "outputs": [],
   "source": [
    "# indepedent variable feature set equals all features except for \"Buys\", so drop \"Buys\"\n",
    "x = one_hot_encoded_data.drop('Buys', axis=1)"
   ]
  },
  {
   "cell_type": "code",
   "execution_count": null,
   "id": "bb1646ef",
   "metadata": {},
   "outputs": [],
   "source": []
  },
  {
   "cell_type": "code",
   "execution_count": 44,
   "id": "60c10392",
   "metadata": {},
   "outputs": [
    {
     "name": "stdout",
     "output_type": "stream",
     "text": [
      "18686018    0.0\n",
      "7099934     1.0\n",
      "3268301     1.0\n",
      "10562412    1.0\n",
      "10051536    1.0\n",
      "           ... \n",
      "21403807    0.0\n",
      "1969375     1.0\n",
      "1164193     1.0\n",
      "891858      1.0\n",
      "6584437     1.0\n",
      "Name: Buys, Length: 2179558, dtype: float64\n"
     ]
    }
   ],
   "source": [
    "# dependent variable feature set is only \"Buys\"\n",
    "y = one_hot_encoded_data['Buys']\n",
    "print(y)"
   ]
  },
  {
   "cell_type": "code",
   "execution_count": null,
   "id": "ba820d95",
   "metadata": {},
   "outputs": [],
   "source": []
  },
  {
   "cell_type": "code",
   "execution_count": 45,
   "id": "a98e7f6c",
   "metadata": {},
   "outputs": [],
   "source": [
    "from sklearn.model_selection import train_test_split\n",
    "from sklearn.metrics import accuracy_score\n",
    "from sklearn.neural_network import MLPClassifier"
   ]
  },
  {
   "cell_type": "code",
   "execution_count": null,
   "id": "a3fd0074",
   "metadata": {},
   "outputs": [],
   "source": []
  },
  {
   "cell_type": "code",
   "execution_count": 98,
   "id": "f2ec8738",
   "metadata": {},
   "outputs": [],
   "source": [
    "# Split the data in training and testing subsets\n",
    "x_tr, x_ts, y_tr, y_ts = train_test_split(x, y, stratify=y, random_state=0, test_size=0.20)"
   ]
  },
  {
   "cell_type": "code",
   "execution_count": 99,
   "id": "c7f1b0e6",
   "metadata": {},
   "outputs": [],
   "source": [
    "# Feature Scaling\n",
    "from sklearn.preprocessing import StandardScaler\n",
    "sc = StandardScaler()\n",
    "x_tr = sc.fit_transform(x_tr)\n",
    "x_ts = sc.transform(x_ts)"
   ]
  },
  {
   "cell_type": "code",
   "execution_count": null,
   "id": "4ad86b3b",
   "metadata": {},
   "outputs": [],
   "source": []
  },
  {
   "cell_type": "code",
   "execution_count": 100,
   "id": "8f686039",
   "metadata": {},
   "outputs": [
    {
     "data": {
      "text/plain": [
       "MLPClassifier(hidden_layer_sizes=[10], max_iter=100, random_state=0)"
      ]
     },
     "execution_count": 100,
     "metadata": {},
     "output_type": "execute_result"
    }
   ],
   "source": [
    "# using 1 hidden layer, with 10 units\n",
    "mlp = MLPClassifier(random_state=0, hidden_layer_sizes=[10], max_iter=100)\n",
    "mlp.fit(x_tr, y_tr)"
   ]
  },
  {
   "cell_type": "code",
   "execution_count": null,
   "id": "796c4315",
   "metadata": {},
   "outputs": [],
   "source": []
  },
  {
   "cell_type": "code",
   "execution_count": 101,
   "id": "b66dba86",
   "metadata": {},
   "outputs": [
    {
     "name": "stdout",
     "output_type": "stream",
     "text": [
      "Accuracy on training set: 0.77\n",
      "Accuracy on all features test set: 0.78\n"
     ]
    }
   ],
   "source": [
    "print(\"Accuracy on training set: {:.2f}\".format(mlp.score(x_tr, y_tr)))\n",
    "print(\"Accuracy on all features test set: {:.2f}\".format(mlp.score(x_ts, y_ts)))"
   ]
  },
  {
   "cell_type": "code",
   "execution_count": null,
   "id": "f8f28971",
   "metadata": {},
   "outputs": [],
   "source": []
  },
  {
   "cell_type": "code",
   "execution_count": 102,
   "id": "8b3b7999",
   "metadata": {},
   "outputs": [
    {
     "name": "stdout",
     "output_type": "stream",
     "text": [
      "MLP AUC for Alpha = 1: 0.893\n"
     ]
    }
   ],
   "source": [
    "from sklearn.metrics import roc_auc_score\n",
    "rf_auc = roc_auc_score(y_ts, mlp.predict_proba(x_ts)[:, 1])\n",
    "print(\"MLP AUC for Alpha = 1: {:.3f}\".format(rf_auc))"
   ]
  },
  {
   "cell_type": "code",
   "execution_count": null,
   "id": "144347fc",
   "metadata": {},
   "outputs": [],
   "source": []
  },
  {
   "cell_type": "code",
   "execution_count": 104,
   "id": "ddc1ce7e",
   "metadata": {},
   "outputs": [
    {
     "name": "stdout",
     "output_type": "stream",
     "text": [
      "Classification Report: alpha = 0.0001\n",
      "              precision    recall  f1-score   support\n",
      "\n",
      "         0.0       0.79      0.75      0.77    217908\n",
      "         1.0       0.76      0.80      0.78    218004\n",
      "\n",
      "    accuracy                           0.78    435912\n",
      "   macro avg       0.78      0.78      0.78    435912\n",
      "weighted avg       0.78      0.78      0.78    435912\n",
      "\n"
     ]
    }
   ],
   "source": [
    "y_pred = mlp.predict(x_ts)\n",
    "from sklearn.metrics import classification_report\n",
    "print (\"Classification Report: alpha = 0.0001\")\n",
    "print(classification_report(y_ts, y_pred))"
   ]
  },
  {
   "cell_type": "code",
   "execution_count": null,
   "id": "6e13dcd8",
   "metadata": {},
   "outputs": [],
   "source": []
  },
  {
   "cell_type": "code",
   "execution_count": 79,
   "id": "9d967b5f",
   "metadata": {},
   "outputs": [],
   "source": [
    "# Hyperparameter tuning alpha\n",
    "\n",
    "parameter_space = {'alpha': [0.00001, 0.0001, 0.1]}\n",
    "\n",
    "from sklearn.model_selection import GridSearchCV\n",
    "\n",
    "clf = GridSearchCV(mlp, parameter_space, n_jobs=-1, cv=3)"
   ]
  },
  {
   "cell_type": "code",
   "execution_count": null,
   "id": "f4684c32",
   "metadata": {},
   "outputs": [],
   "source": []
  },
  {
   "cell_type": "code",
   "execution_count": 80,
   "id": "3dbd7867",
   "metadata": {},
   "outputs": [
    {
     "data": {
      "text/plain": [
       "GridSearchCV(cv=3,\n",
       "             estimator=MLPClassifier(hidden_layer_sizes=[10], max_iter=100,\n",
       "                                     random_state=0),\n",
       "             n_jobs=-1, param_grid={'alpha': [1e-05, 0.0001, 0.1]})"
      ]
     },
     "execution_count": 80,
     "metadata": {},
     "output_type": "execute_result"
    }
   ],
   "source": [
    "clf.fit(x_tr, y_tr)"
   ]
  },
  {
   "cell_type": "code",
   "execution_count": null,
   "id": "bf1e9514",
   "metadata": {},
   "outputs": [],
   "source": []
  },
  {
   "cell_type": "code",
   "execution_count": 81,
   "id": "a93526dc",
   "metadata": {},
   "outputs": [
    {
     "name": "stdout",
     "output_type": "stream",
     "text": [
      "Best parameters found:\n",
      " {'alpha': 1e-05}\n"
     ]
    }
   ],
   "source": [
    "# Best parameter set\n",
    "print('Best parameters found:\\n', clf.best_params_)"
   ]
  },
  {
   "cell_type": "code",
   "execution_count": null,
   "id": "0c3dbf08",
   "metadata": {},
   "outputs": [],
   "source": []
  },
  {
   "cell_type": "code",
   "execution_count": 82,
   "id": "16fc8702",
   "metadata": {},
   "outputs": [
    {
     "data": {
      "text/plain": [
       "MLPClassifier(alpha=1e-05, hidden_layer_sizes=[10], max_iter=100,\n",
       "              random_state=0)"
      ]
     },
     "execution_count": 82,
     "metadata": {},
     "output_type": "execute_result"
    }
   ],
   "source": [
    "# Retrain using best alpha parameter\n",
    "mlp2 = MLPClassifier(random_state=0, hidden_layer_sizes=[10], max_iter=100, alpha=0.00001)\n",
    "mlp2.fit(x_tr, y_tr)"
   ]
  },
  {
   "cell_type": "code",
   "execution_count": 83,
   "id": "7be11006",
   "metadata": {},
   "outputs": [
    {
     "name": "stdout",
     "output_type": "stream",
     "text": [
      "Accuracy on training set: 0.78\n",
      "Accuracy on all features test set: 0.78\n"
     ]
    }
   ],
   "source": [
    "print(\"Accuracy on training set: {:.2f}\".format(mlp2.score(x_tr, y_tr)))\n",
    "print(\"Accuracy on all features test set: {:.2f}\".format(mlp2.score(x_ts, y_ts)))"
   ]
  },
  {
   "cell_type": "code",
   "execution_count": null,
   "id": "9d851c68",
   "metadata": {},
   "outputs": [],
   "source": []
  },
  {
   "cell_type": "code",
   "execution_count": 84,
   "id": "a5db1b9d",
   "metadata": {},
   "outputs": [
    {
     "name": "stdout",
     "output_type": "stream",
     "text": [
      "MLP AUC for Alpha = 1: 0.894\n"
     ]
    }
   ],
   "source": [
    "from sklearn.metrics import roc_auc_score\n",
    "rf_auc = roc_auc_score(y_ts, mlp2.predict_proba(x_ts)[:, 1])\n",
    "print(\"MLP AUC for Alpha = 1: {:.3f}\".format(rf_auc))"
   ]
  },
  {
   "cell_type": "code",
   "execution_count": null,
   "id": "1133962e",
   "metadata": {},
   "outputs": [],
   "source": []
  },
  {
   "cell_type": "code",
   "execution_count": 96,
   "id": "effacf88",
   "metadata": {},
   "outputs": [
    {
     "name": "stdout",
     "output_type": "stream",
     "text": [
      "Classification Report: (alpha = 0.00001)\n",
      "              precision    recall  f1-score   support\n",
      "\n",
      "         0.0       0.71      0.94      0.81    217908\n",
      "         1.0       0.91      0.61      0.73    218004\n",
      "\n",
      "    accuracy                           0.78    435912\n",
      "   macro avg       0.81      0.78      0.77    435912\n",
      "weighted avg       0.81      0.78      0.77    435912\n",
      "\n"
     ]
    }
   ],
   "source": [
    "y_pred = mlp2.predict(x_ts)\n",
    "from sklearn.metrics import classification_report\n",
    "print (\"Classification Report: (alpha = 0.00001)\")\n",
    "print(classification_report(y_ts, y_pred))"
   ]
  },
  {
   "cell_type": "code",
   "execution_count": null,
   "id": "a081b468",
   "metadata": {},
   "outputs": [],
   "source": []
  },
  {
   "cell_type": "code",
   "execution_count": null,
   "id": "dc644e86",
   "metadata": {},
   "outputs": [],
   "source": []
  },
  {
   "cell_type": "code",
   "execution_count": null,
   "id": "dca1177e",
   "metadata": {},
   "outputs": [],
   "source": []
  },
  {
   "cell_type": "code",
   "execution_count": null,
   "id": "958ab420",
   "metadata": {},
   "outputs": [],
   "source": []
  },
  {
   "cell_type": "code",
   "execution_count": 90,
   "id": "0d749d3b",
   "metadata": {},
   "outputs": [
    {
     "name": "stderr",
     "output_type": "stream",
     "text": [
      "C:\\Users\\joeka\\anaconda3\\lib\\site-packages\\sklearn\\feature_selection\\_univariate_selection.py:114: UserWarning: Features [  4  52  60  98 168 190] are constant.\n",
      "  warnings.warn(\"Features %s are constant.\" % constant_features_idx,\n",
      "C:\\Users\\joeka\\anaconda3\\lib\\site-packages\\sklearn\\feature_selection\\_univariate_selection.py:116: RuntimeWarning: invalid value encountered in true_divide\n",
      "  f = msb / msw\n"
     ]
    },
    {
     "data": {
      "text/plain": [
       "SelectPercentile(percentile=50)"
      ]
     },
     "execution_count": 90,
     "metadata": {},
     "output_type": "execute_result"
    }
   ],
   "source": [
    "# Testing if Feature Selected model performs better\n",
    "\n",
    "# use f_classif (the default) and SelectPercentile to select 50% of features\n",
    "from sklearn.feature_selection import SelectPercentile\n",
    "\n",
    "select = SelectPercentile(percentile=50)\n",
    "select.fit(x_tr, y_tr)"
   ]
  },
  {
   "cell_type": "code",
   "execution_count": 91,
   "id": "578bd929",
   "metadata": {},
   "outputs": [],
   "source": [
    "# transform training set\n",
    "x_train_selected = select.transform(x_tr)\n",
    "\n",
    "# transform test data\n",
    "x_test_selected = select.transform(x_ts)"
   ]
  },
  {
   "cell_type": "code",
   "execution_count": null,
   "id": "cf2ad394",
   "metadata": {},
   "outputs": [],
   "source": []
  },
  {
   "cell_type": "code",
   "execution_count": 93,
   "id": "f1d4b722",
   "metadata": {},
   "outputs": [
    {
     "data": {
      "text/plain": [
       "MLPClassifier(hidden_layer_sizes=[10], max_iter=100, random_state=0)"
      ]
     },
     "execution_count": 93,
     "metadata": {},
     "output_type": "execute_result"
    }
   ],
   "source": [
    "# train with feature selected dataset\n",
    "mlp.fit(x_train_selected, y_tr)"
   ]
  },
  {
   "cell_type": "code",
   "execution_count": null,
   "id": "2a7a8f7b",
   "metadata": {},
   "outputs": [],
   "source": []
  },
  {
   "cell_type": "code",
   "execution_count": 94,
   "id": "ac001754",
   "metadata": {},
   "outputs": [
    {
     "name": "stdout",
     "output_type": "stream",
     "text": [
      "Score with only selected features: 0.776\n"
     ]
    }
   ],
   "source": [
    "print(\"Score with only selected features: {:.3f}\".format(mlp.score(x_test_selected, y_ts)))"
   ]
  },
  {
   "cell_type": "code",
   "execution_count": null,
   "id": "11292a47",
   "metadata": {},
   "outputs": [],
   "source": []
  },
  {
   "cell_type": "code",
   "execution_count": 39,
   "id": "eedbd195",
   "metadata": {},
   "outputs": [
    {
     "name": "stdout",
     "output_type": "stream",
     "text": [
      "[ True  True  True  True False  True  True  True  True  True  True  True\n",
      "  True  True False  True  True  True False False False False  True  True\n",
      " False False False False False False  True  True  True False False  True\n",
      "  True  True False False  True  True  True False False False  True False\n",
      " False  True False False  True  True  True  True False  True False  True\n",
      " False False False  True False False False  True False False  True  True\n",
      "  True  True False False False False  True False  True  True False  True\n",
      " False False  True  True  True  True False  True  True False False False\n",
      " False False  True  True  True False  True  True  True  True  True False\n",
      " False False False False False  True  True  True False False  True False\n",
      " False False  True False  True  True  True  True False False False False\n",
      " False False  True False  True False False False  True  True False  True\n",
      "  True False False False  True  True  True  True False  True False  True\n",
      " False False  True False  True False  True  True False False False  True\n",
      " False False False  True False  True  True False False False False  True\n",
      "  True False  True False  True  True False False  True  True  True False\n",
      "  True False False False  True False False False False  True  True  True\n",
      "  True False False False False  True  True  True  True  True]\n"
     ]
    },
    {
     "data": {
      "text/plain": [
       "([], [])"
      ]
     },
     "execution_count": 39,
     "metadata": {},
     "output_type": "execute_result"
    },
    {
     "data": {
      "image/png": "[encoded data removed]",
      "text/plain": [
       "<Figure size 1152x144 with 1 Axes>"
      ]
     },
     "metadata": {
      "needs_background": "light"
     },
     "output_type": "display_data"
    }
   ],
   "source": [
    "# Feature Selection/Selected Features\n",
    "import matplotlib.pyplot as plt\n",
    "\n",
    "# Selected Features\n",
    "mask = select.get_support()\n",
    "print(mask)\n",
    "\n",
    "# visualize the mask -- black is True, white is False\n",
    "plt.matshow(mask.reshape(1, -1), cmap='gray_r')\n",
    "plt.xlabel(\"Sample index\")\n",
    "plt.yticks(())"
   ]
  },
  {
   "cell_type": "code",
   "execution_count": null,
   "id": "3cbfb214",
   "metadata": {},
   "outputs": [],
   "source": []
  }
 ],
 "metadata": {
  "kernelspec": {
   "display_name": "Python 3",
   "language": "python",
   "name": "python3"
  },
  "language_info": {
   "codemirror_mode": {
    "name": "ipython",
    "version": 3
   },
   "file_extension": ".py",
   "mimetype": "text/x-python",
   "name": "python",
   "nbconvert_exporter": "python",
   "pygments_lexer": "ipython3",
   "version": "3.8.8"
  }
 },
 "nbformat": 4,
 "nbformat_minor": 5
}
